{
 "cells": [
  {
   "cell_type": "code",
   "execution_count": null,
   "metadata": {
    "id": "kD12PM1XvynO"
   },
   "outputs": [],
   "source": [
    "# 생능 출판사: 자료구조와 알고리즘 with 파이썬(2023)\n",
    "# 1장 스택\n",
    "#프로그래밍 기법 : procedual programing\n",
    "#=========================================================\n",
    "# 코드 1.1a: 스택을 위한 데이터\n",
    "capacity = 10            # 스택 용량: 예) 용량을 10으로 지정\n",
    "array = [None]*capacity  # 요소 배열: [None, ..., None] (길이가 capacity)  스택은 -1~9\n",
    "top = -1                 # 상단의 인덱스: 공백상태(-1)로 초기화 함\n",
    "\n",
    "# 코드 1.1b: 스택의 공백상태와 포화상태 검사\n",
    "def isEmpty( ) :\n",
    "    # if top == -1 : return True\t# 공백이면 True 반환\n",
    "    # else : return False\t\t\t# 아니면 False 반환\n",
    "    return top == -1\n",
    "    \n",
    "def isFull( ) : return top == capacity-1\t# 비교 연산 결과를 바로 반환  \n",
    "\n",
    "\n",
    "# 코드 1.1c: 스택의 삽입 연산\n",
    "def push( item ) :\n",
    "    global top\n",
    "    if not isFull() :\t\t    # 포화상태가 아닌 경우\n",
    "        top += 1\t\t\t    # top 증가(global top 선언 필요)\n",
    "        array[top] = item\n",
    "    else :\t\t\t            # 포화상태: overflow\n",
    "        print(\"stack overflow\")\n",
    "        exit()\n",
    "\n",
    "# 코드 1.1d: 스택의 삭제 연산\n",
    "def pop( ) :\n",
    "    global top\n",
    "    if not isEmpty():\t\t    # 공백상태가 아닌 경우\n",
    "        top -= 1\t\t\t    # top 감소(global top 선언 필요)\n",
    "        return array[top+1]\n",
    "    else:\t\t\t            # 공백상태: underflow\n",
    "        print(\"stack underflow\")\n",
    "        exit()\n",
    "\n",
    "# 코드 1.1e: 스택의 peek() 연산\n",
    "def peek( ) :\n",
    "    if not isEmpty():\t\t    # 공백상태가 아닌 경우\n",
    "        return array[top]\n",
    "    else:\n",
    "        print(\"Stack is empty\")\n",
    "\n",
    "# 코드 1.1f: 스택의 size() 연산\n",
    "def size( ) : return top+1\t    # 현재 요소의 수는 top+1\n",
    "\n",
    "\n",
    "#=========================================================\n",
    "# 이 파일이 직접 실행될 때에는 다음 문장들을 실행함.\n",
    "# 다른 파일에서 모듈로 불려지는 경우는 실행되지 않음.\n",
    "# 문제: 정의한 사용자 스택 ADT을 이용하여 문자열을 역순으로 출력하기\n",
    "#=========================================================\n",
    "\n",
    "if __name__ == \"__main__\":\n",
    "    msg = input(\"문자열 입력: \")   # 문자열을 입력받음\n",
    "    for c in msg :                # 문자열의 각 문자 c에 대해\n",
    "        push(c)                   # c를 스택에 삽입\n",
    "\n",
    "    print(\"문자열 출력: \", end='')\n",
    "    while not isEmpty():          # 스택이 공백상태가 아니라면\n",
    "        print(pop(), end='')      # 하나의 요소를 꺼내서 출력\n",
    "    print()\n",
    "\n",
    "\n"
   ]
  },
  {
   "cell_type": "code",
   "execution_count": null,
   "metadata": {
    "id": "PJqzPvjyOp-1"
   },
   "outputs": [],
   "source": []
  }
 ],
 "metadata": {
  "colab": {
   "authorship_tag": "ABX9TyM5Zq3CnFJO63l37I689gbr",
   "mount_file_id": "1cPXEg85iAKpddv8wMEhuDgNOzG4QijMN",
   "provenance": []
  },
  "kernelspec": {
   "display_name": "Python 3 (ipykernel)",
   "language": "python",
   "name": "python3"
  },
  "language_info": {
   "codemirror_mode": {
    "name": "ipython",
    "version": 3
   },
   "file_extension": ".py",
   "mimetype": "text/x-python",
   "name": "python",
   "nbconvert_exporter": "python",
   "pygments_lexer": "ipython3",
   "version": "3.11.8"
  }
 },
 "nbformat": 4,
 "nbformat_minor": 4
}
