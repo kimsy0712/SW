{
 "cells": [
  {
   "cell_type": "code",
   "execution_count": 1,
   "metadata": {
    "id": "7NsLjCIHFpw3"
   },
   "outputs": [
    {
     "name": "stdin",
     "output_type": "stream",
     "text": [
      "문자열 입력:  자료구조\n"
     ]
    },
    {
     "name": "stdout",
     "output_type": "stream",
     "text": [
      "문자열 출력: 조구료자\n"
     ]
    }
   ],
   "source": [
    "# 코드 1.5: 문자열 역순 출력(파이썬 리스트 이용)\n",
    "\n",
    "s = list()                  \t# 리스트를 객체를 생성해 스택으로 사용\n",
    "\n",
    "msg = input(\"문자열 입력: \")\n",
    "for c in msg :\n",
    "    s.append(c)             \t# c를 스택에 삽입\n",
    "\n",
    "print(\"문자열 출력: \", end='')\n",
    "while len(s) > 0:           \t# 스택이 공백상태가 아니라면\n",
    "    print(s.pop(), end='')  \t# 하나의 요소를 꺼내서 출력\n",
    "print()"
   ]
  },
  {
   "cell_type": "code",
   "execution_count": 5,
   "metadata": {
    "id": "aYsCw9UJBQfL"
   },
   "outputs": [
    {
     "name": "stdin",
     "output_type": "stream",
     "text": [
      "문자열 입력:  자료구조\n"
     ]
    },
    {
     "name": "stdout",
     "output_type": "stream",
     "text": [
      "문자열 출력: 조구료자\n"
     ]
    }
   ],
   "source": [
    "# 코드 1.6: 문자열 역순 출력(LifoQueue 이용)\n",
    "\n",
    "import queue \t\t\t        # 파이썬의 큐 모듈 포함\n",
    "\n",
    "s = queue.LifoQueue(maxsize=100) # 스택 객체 생성(용량=100)\n",
    "\n",
    "msg = input(\"문자열 입력: \")\n",
    "for c in msg :\n",
    "    s.put(c)\t\t\t\t    # c를 스택에 삽입\n",
    "\n",
    "print(\"문자열 출력: \", end='')\n",
    "while not s.empty():\t\t\t# 스택이 공백상태가 아니라면\n",
    "    print(s.get(), end='')\t\t# 하나의 요소를 꺼내서 출력\n",
    "print()\n",
    "\n"
   ]
  },
  {
   "cell_type": "raw",
   "metadata": {},
   "source": [
    "시스템 스택은 프로그램이 함수를 호출하고 복귀하는 순서를 관리하는 데 사용되는 중요한 자료 구조입니다. \n",
    "후입선출(LIFO) 구조를 따르며, 함수 호출이 발생할 때마다 호출된 함수의 정보를 스택에 저장하고 함수가 종료되면 해당 정보를 스택에서 제거합니다."
   ]
  },
  {
   "cell_type": "markdown",
   "metadata": {},
   "source": [
    "재귀구조 vs 순환구조\n",
    "\n",
    "순환(반복) 구조 : for, while과 같은 반복문을 통해 구현 -> 메모리 호율 높음\n",
    "\n",
    "재귀 구조 : 코드가 간결 + 이해하기 쉬울 수 있지만 깊이가 커지면 성능 저하 발생"
   ]
  },
  {
   "cell_type": "code",
   "execution_count": 8,
   "metadata": {
    "id": "u7dxsxh5BXvp"
   },
   "outputs": [
    {
     "name": "stdin",
     "output_type": "stream",
     "text": [
      "숫자를 입력하세요(n>=1): 4\n"
     ]
    },
    {
     "name": "stdout",
     "output_type": "stream",
     "text": [
      "4 !=  24\n",
      "4 != 24\n"
     ]
    }
   ],
   "source": [
    "# 코드 1.7: 반복 구조의 팩토리얼 함수\n",
    "\n",
    "def factorial_iter(n) :\n",
    "    result = 1\n",
    "    for k in range(2, n+1) :\t# k: 2, ..., n\n",
    "        result = result * k\t# result에 반복적으로 곱함\n",
    "    return result\n",
    "\n",
    "\n",
    "# 코드 1.8: 순환 구조의 팩토리얼 함수\n",
    "\n",
    "def factorial_recur(n) :\t\t# 순환적으로 구현한 factorial 함수\n",
    "    if n == 1 : return 1\t\t# 종료 조건: 순환을 멈추는 부분\n",
    "    else :\n",
    "        return n * factorial_recur(n - 1)\t# 자신을 순환적으로 호출\n",
    "\n",
    "#테스트\n",
    "def main():\n",
    "    number = int(input(\"숫자를 입력하세요(n>=1):\"))\n",
    "    print(number,\"!= \", factorial_iter(number))\n",
    "    print(number, \"!=\", factorial_recur(number))\n",
    "\n",
    "if __name__ == \"__main__\":\n",
    "    main()\n",
    "    "
   ]
  },
  {
   "cell_type": "code",
   "execution_count": 13,
   "metadata": {},
   "outputs": [
    {
     "name": "stdin",
     "output_type": "stream",
     "text": [
      "숫자를 입력하세요(n>=1): 5\n"
     ]
    },
    {
     "name": "stdout",
     "output_type": "stream",
     "text": [
      "5 th-value 5\n",
      "5 th-value 5\n"
     ]
    }
   ],
   "source": [
    "# 반복 구조를 사용한 피보나치 수열 계산\n",
    "def fibo_iter(n):\n",
    "    if n <= 0:\n",
    "        return 0\n",
    "    elif n == 1:\n",
    "        return 1\n",
    "\n",
    "    prev, current = 0,1\n",
    "    for _ in range(2,n+1):\n",
    "        prev, current = current, prev+current\n",
    "        \n",
    "    return current\n",
    "\n",
    "def fibo_recur(n):\n",
    "    if n <= 0:\n",
    "        return 0\n",
    "    elif n == 1:\n",
    "        return 1\n",
    "    else: \n",
    "        return fibo_recur(n-1) + fibo_recur(n-2)\n",
    "\n",
    "#테스트\n",
    "def main():\n",
    "    number = int(input(\"숫자를 입력하세요(n>=1):\"))\n",
    "    print(number,\"th-value\", fibo_iter(number))\n",
    "    print(number, \"th-value\", fibo_recur(number))\n",
    "\n",
    "if __name__ == \"__main__\":\n",
    "    main()\n"
   ]
  },
  {
   "cell_type": "code",
   "execution_count": 14,
   "metadata": {
    "id": "T_LhEl3PBihv"
   },
   "outputs": [
    {
     "name": "stdout",
     "output_type": "stream",
     "text": [
      "큐가 생성되었습니다.\n",
      "Queue: = []\n",
      "\n",
      "요소 삽입 (enqueue) 작업을 수행합니다.\n",
      "Queue: = [None 10 20 ]\n",
      "\n",
      "큐의 현재 크기: 3\n",
      "\n",
      "요소 삭제 (dequeue) 작업을 수행합니다.\n",
      "Queue: = [10 20 ]\n",
      "\n",
      "상단 요소 확인 (peek): 10\n",
      "\n",
      "다시 요소 삽입 (enqueue) 작업을 수행합니다.\n",
      "Queue is full. Cannot enqueue.\n",
      "Queue: = [10 20 30 40 ]\n",
      "\n",
      "큐가 포화 상태인가?: True\n",
      "\n",
      "큐의 현재 크기: 4\n",
      "\n",
      "모든 요소를 삭제합니다.\n",
      "Queue: = []\n",
      "\n",
      "큐가 공백 상태인가?: True\n"
     ]
    }
   ],
   "source": [
    "# 원형 큐 구현: 배열 방식 (전역 변수 사용)\n",
    "\n",
    "# 전역 변수 선언\n",
    "queue = []\n",
    "front = 0\n",
    "rear = 0\n",
    "capacity = 0   #용량\n",
    "\n",
    "def create_queue(c=5):\n",
    "    global queue, front, rear, capacity    \n",
    "    capacity = c\n",
    "    queue = [None] * capacity  # 용량에 맞는 배열 생성\n",
    "    front = 0  # 전단 인덱스 초기화\n",
    "    rear = 0   # 후단 인덱스 초기화\n",
    "\n",
    "def is_empty():\n",
    "    global front, rear\n",
    "    return front == rear\n",
    "\n",
    "def is_full():\n",
    "    global front, rear, capacity\n",
    "    return (rear + 1) % capacity == front  # 원형 큐에서는 후단이 전단 바로 앞에 있으면 포화 상태\n",
    "\n",
    "def enqueue(item):\n",
    "    global queue, rear, front, capacity\n",
    "    if not is_full():  # 포화 상태가 아닌 경우\n",
    "        rear = (rear + 1) % capacity  # 후단 인덱스를 순환하도록 처리\n",
    "        queue[rear] = item\n",
    "    else:\n",
    "        print(\"Queue is full. Cannot enqueue.\")\n",
    "\n",
    "def dequeue():\n",
    "    global queue, front, rear, capacity\n",
    "    if not is_empty():  # 공백 상태가 아닌 경우\n",
    "        item = queue[front]\n",
    "        queue[front] = None  # 삭제된 자리 초기화\n",
    "        front = (front + 1) % capacity  # 전단 인덱스를 순환하도록 처리\n",
    "        return item\n",
    "    else:\n",
    "        print(\"Queue is empty. Cannot dequeue.\")\n",
    "        return None\n",
    "\n",
    "def peek():\n",
    "    global queue, front, capacity\n",
    "    if not is_empty():  # 공백 상태가 아닌 경우\n",
    "        return queue[front]\n",
    "    else:\n",
    "        print(\"Queue is empty. Nothing to peek.\")\n",
    "        return None\n",
    "\n",
    "def size():\n",
    "    global front, rear, capacity\n",
    "    return (rear - front + capacity) % capacity  # 원형 큐에서 요소의 개수를 계산\n",
    "\n",
    "def display(msg='Queue:'):\n",
    "    global queue, front, rear, capacity\n",
    "    print(msg, end=' = [')\n",
    "    i = front\n",
    "    while i != rear:\n",
    "        print(queue[i], end=' ')\n",
    "        i = (i + 1) % capacity  # 인덱스를 순환하도록 처리\n",
    "    print(']')\n",
    "\n",
    "# main 함수를 통해 동작 테스트\n",
    "def main():\n",
    "    # 원형큐 생성\n",
    "    create_queue(5)  # 용량 5인 원형 큐 생성\n",
    "    print(\"큐가 생성되었습니다.\")\n",
    "    display()\n",
    "\n",
    "    # 요소 삽입 (enqueue)\n",
    "    print(\"\\n요소 삽입 (enqueue) 작업을 수행합니다.\")\n",
    "    enqueue(10)\n",
    "    enqueue(20)\n",
    "    enqueue(30)\n",
    "    display()\n",
    "\n",
    "    # 큐의 크기 확인\n",
    "    print(\"\\n큐의 현재 크기:\", size())\n",
    "\n",
    "    # 요소 삭제 (dequeue)\n",
    "    print(\"\\n요소 삭제 (dequeue) 작업을 수행합니다.\")\n",
    "    dequeue()\n",
    "    display()\n",
    "\n",
    "    # 큐의 상단 요소 확인 (peek)\n",
    "    print(\"\\n상단 요소 확인 (peek):\", peek())\n",
    "\n",
    "    # 요소 추가 삽입 (enqueue)\n",
    "    print(\"\\n다시 요소 삽입 (enqueue) 작업을 수행합니다.\")\n",
    "    enqueue(40)\n",
    "    enqueue(50)\n",
    "    enqueue(60)  # 큐가 포화 상태일 경우 메시지 출력\n",
    "    display()\n",
    "\n",
    "    # 큐가 포화 상태인지 확인\n",
    "    print(\"\\n큐가 포화 상태인가?:\", is_full())\n",
    "\n",
    "    # 큐의 크기 확인\n",
    "    print(\"\\n큐의 현재 크기:\", size())\n",
    "\n",
    "    # 모든 요소 삭제\n",
    "    print(\"\\n모든 요소를 삭제합니다.\")\n",
    "    dequeue()\n",
    "    dequeue()\n",
    "    dequeue()\n",
    "    dequeue()  # 큐가 공백 상태일 경우 메시지 출력\n",
    "    display()\n",
    "\n",
    "    # 큐가 공백 상태인지 확인\n",
    "    print(\"\\n큐가 공백 상태인가?:\", is_empty())\n",
    "\n",
    "# main 함수 호출\n",
    "if __name__ == \"__main__\":\n",
    "    main()\n"
   ]
  },
  {
   "cell_type": "markdown",
   "metadata": {},
   "source": [
    "# #. OOP 방식으로 배열 기반 원형 큐 구현"
   ]
  },
  {
   "cell_type": "code",
   "execution_count": 20,
   "metadata": {},
   "outputs": [
    {
     "name": "stdout",
     "output_type": "stream",
     "text": [
      "초기 상태=[]\n"
     ]
    },
    {
     "ename": "TypeError",
     "evalue": "CircularQueue.enqueue() takes 1 positional argument but 2 were given",
     "output_type": "error",
     "traceback": [
      "\u001b[1;31m----------------------------------------------------------------\u001b[0m",
      "\u001b[1;31mTypeError\u001b[0m                      Traceback (most recent call last)",
      "Cell \u001b[1;32mIn[20], line 56\u001b[0m\n\u001b[0;32m     54\u001b[0m \u001b[38;5;66;03m#3. 원형 큐에 랜덤으로 데이터 생성해서 저장하기\u001b[39;00m\n\u001b[0;32m     55\u001b[0m \u001b[38;5;28;01mwhile\u001b[39;00m \u001b[38;5;129;01mnot\u001b[39;00m q\u001b[38;5;241m.\u001b[39misFull():\n\u001b[1;32m---> 56\u001b[0m     \u001b[43mq\u001b[49m\u001b[38;5;241;43m.\u001b[39;49m\u001b[43menqueue\u001b[49m\u001b[43m(\u001b[49m\u001b[43mrandom\u001b[49m\u001b[38;5;241;43m.\u001b[39;49m\u001b[43mrandint\u001b[49m\u001b[43m(\u001b[49m\u001b[38;5;241;43m0\u001b[39;49m\u001b[43m,\u001b[49m\u001b[43m \u001b[49m\u001b[38;5;241;43m100\u001b[39;49m\u001b[43m)\u001b[49m\u001b[43m)\u001b[49m \u001b[38;5;66;03m#0과 99 사이의 정수 난수 발생\u001b[39;00m\n\u001b[0;32m     58\u001b[0m \u001b[38;5;66;03m#4. 큐의 상태를 출력\u001b[39;00m\n\u001b[0;32m     59\u001b[0m q\u001b[38;5;241m.\u001b[39mdisplay(\u001b[38;5;124m\"\u001b[39m\u001b[38;5;124m포화 상태\u001b[39m\u001b[38;5;124m\"\u001b[39m)\n",
      "\u001b[1;31mTypeError\u001b[0m: CircularQueue.enqueue() takes 1 positional argument but 2 were given"
     ]
    }
   ],
   "source": [
    "class CircularQueue:\n",
    "    def __init__(self, capacity =10):\n",
    "        self.capacity = capacity\n",
    "        self.queue = [None] * capacity  # 용량에 맞는 배열 생성\n",
    "        self.front = 0  # 전단 인덱스 초기화\n",
    "        self.rear = 0   # 후단 인덱스 초기화\n",
    "\n",
    "    def isFull(self):\n",
    "        return self.front == (self.rear + 1) % capacity        #rear보다 한칸 앞에 있을때 포화상태\n",
    "\n",
    "    def isEmpty(self):\n",
    "        return self.front == self.rear\n",
    "\n",
    "    def enqueue(item):\n",
    "        if not self.is_full():  # 포화 상태가 아닌 경우\n",
    "            self.rear = (self.rear + 1) % self.capacity  # 후단 인덱스를 순환하도록 처리\n",
    "            self.queue[self.rear] = item\n",
    "        else:\n",
    "            print(\"Queue is full. Cannot enqueue.\")\n",
    "\n",
    "\n",
    "    def dequeue(self):\n",
    "        if not self.is_empty():  # 공백 상태가 아닌 경우\n",
    "            self.front = (self.front + 1) % self.capacity  # 전단 인덱스를 순환하도록 처리\n",
    "            return self.queue[self.front]\n",
    "        else:\n",
    "            print(\"Queue is empty. Cannot dequeue.\")\n",
    "            return None\n",
    "\n",
    "    def peek(self):\n",
    "        if not self.is_empty():  # 공백 상태가 아닌 경우\n",
    "            return self.queue[(self.front+1) % self.capacity]\n",
    "            \n",
    "    def size(self):\n",
    "        return(self.rear -self.front + self.capacity) % self.capacity\n",
    "\n",
    "\n",
    "    def display(self, msg = 'Queue : '):\n",
    "        print(msg, end = '=[')\n",
    "        count = self.size()\n",
    "        for i in range(count):\n",
    "            print(self.array[(self.front + 1+ i) % self.capacity], end=' ')\n",
    "        print(']')\n",
    "\n",
    "\n",
    "#문제 : 데이터를 랜덤으로 생서하여 생성한 순서로 출력하는 프로그램을 작성하시오.\n",
    "import random\n",
    "if __name__ == \"__main__\":\n",
    "    #1. 큐 캑체 생성\n",
    "    q = CircularQueue(8)\n",
    "    #2. 큐의 상태를 출력\n",
    "    q.display(\"초기 상태\")\n",
    "\n",
    "    #3. 원형 큐에 랜덤으로 데이터 생성해서 저장하기\n",
    "    while not q.isFull():\n",
    "        q.enqueue(random.randint(0, 100)) #0과 99 사이의 정수 난수 발생\n",
    "\n",
    "    #4. 큐의 상태를 출력\n",
    "    q.display(\"포화 상태\")\n",
    "\n",
    "    #5. 큐에 저장된 데이터 출력하기(FIFO)\n",
    "    print(\"삭제 순서 : \", end='')\n",
    "    while not q.isEmpty():\n",
    "        print(q.dequeue(), end=' ')\n",
    "        \n",
    "    "
   ]
  },
  {
   "cell_type": "code",
   "execution_count": null,
   "metadata": {},
   "outputs": [],
   "source": []
  },
  {
   "cell_type": "code",
   "execution_count": null,
   "metadata": {},
   "outputs": [],
   "source": []
  },
  {
   "cell_type": "code",
   "execution_count": null,
   "metadata": {},
   "outputs": [],
   "source": []
  },
  {
   "cell_type": "code",
   "execution_count": null,
   "metadata": {},
   "outputs": [],
   "source": []
  },
  {
   "cell_type": "code",
   "execution_count": null,
   "metadata": {},
   "outputs": [],
   "source": []
  }
 ],
 "metadata": {
  "colab": {
   "provenance": []
  },
  "kernelspec": {
   "display_name": "Python 3 (ipykernel)",
   "language": "python",
   "name": "python3"
  },
  "language_info": {
   "codemirror_mode": {
    "name": "ipython",
    "version": 3
   },
   "file_extension": ".py",
   "mimetype": "text/x-python",
   "name": "python",
   "nbconvert_exporter": "python",
   "pygments_lexer": "ipython3",
   "version": "3.11.8"
  }
 },
 "nbformat": 4,
 "nbformat_minor": 4
}
