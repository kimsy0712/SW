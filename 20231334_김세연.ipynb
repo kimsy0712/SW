{
 "cells": [
  {
   "cell_type": "markdown",
   "id": "c91a5c42-df04-4343-9648-f40f812f7f00",
   "metadata": {},
   "source": [
    "# 프로그래밍 과제 - 도서 관리 프로그램 개발 "
   ]
  },
  {
   "cell_type": "markdown",
   "id": "5abe098e-aa70-4215-8e97-f008244e6385",
   "metadata": {},
   "source": [
    "#### "
   ]
  },
  {
   "cell_type": "markdown",
   "id": "47bddcaa-f11f-4050-9f89-d724b3a1009d",
   "metadata": {},
   "source": [
    "### <프로그램 사용자 인터페이스 요구 사항>\n",
    "#### (1) 도서 추가 기능 \n",
    "##### -> 입력데이터 : 책 번호, 책 제목, 출판 연도\n",
    "#### (2) 도서 삭제 기능 \n",
    "##### -> 입력데이터 : 책 제목\n",
    "#### (3) 도서 조회 기능 \n",
    "##### -> 입력데이터 : 책 제목\n",
    "#### (4) 전체 도서 목록 출력 기능\n",
    "##### -> 출력데이터 : 책 번호, 책 제목, 저자, 출판 연도\n",
    "#### (5) 프로그램 종료 기능"
   ]
  },
  {
   "cell_type": "markdown",
   "id": "144ea4e2-01bc-4a8f-aec7-6ac4d9fec30b",
   "metadata": {},
   "source": [
    "#### "
   ]
  },
  {
   "cell_type": "markdown",
   "id": "8752d305-f5b0-40c7-9a9d-791077c5acb2",
   "metadata": {},
   "source": [
    "### 1. Node 클래스 구현"
   ]
  },
  {
   "cell_type": "code",
   "execution_count": 26,
   "id": "f5a9b949-b5df-4c45-bb06-01ea0e41a306",
   "metadata": {},
   "outputs": [],
   "source": [
    "class Node:\n",
    "    def __init__(self, elem, next=None):\n",
    "        self.data = elem\n",
    "        self.link = next\n",
    "        \n",
    "    def append(self, node):\n",
    "        if node is not None:\n",
    "            node.link = self.link\n",
    "            self.link = node\n",
    "            \n",
    "    def popNext(self):\n",
    "        next_node = self.link\n",
    "        if next_node is not None:\n",
    "            self.link = next_node.link\n",
    "        return next_node"
   ]
  },
  {
   "cell_type": "markdown",
   "id": "7e061415-8cb1-4103-ac17-82e083191c5e",
   "metadata": {},
   "source": [
    "### 2. LinkedList 클래스 구현"
   ]
  },
  {
   "cell_type": "code",
   "execution_count": 27,
   "id": "79e89535-b8c2-4c1a-b52c-967df17ac817",
   "metadata": {},
   "outputs": [],
   "source": [
    "# 1.연결 리스트 기본구조 \n",
    "class LinkedList:\n",
    "    def __init__(self):\n",
    "        self.head = None\n",
    "        \n",
    "    def isEmpty(self):\n",
    "        return self.head is None\n",
    "        \n",
    "    def insert(self, pos, elem):\n",
    "        node = Node(elem)\n",
    "        before = self.getNode(pos - 1)\n",
    "        if before is None:\n",
    "            node.link = self.head\n",
    "            self.head = node\n",
    "        else:\n",
    "            before.append(node)\n",
    "            \n",
    "    def delete(self, pos):\n",
    "        before = self.getNode(pos - 1)\n",
    "        if before is None:\n",
    "            if self.head is not None:\n",
    "                self.head = self.head.link\n",
    "        else:\n",
    "            before.popNext()\n",
    "            \n",
    "    def getNode(self, pos):\n",
    "        if pos < 0:\n",
    "            return None\n",
    "        ptr = self.head\n",
    "        for i in range(pos):\n",
    "            if ptr is None:\n",
    "                return None\n",
    "            ptr = ptr.link\n",
    "        return ptr\n",
    "        \n",
    "    def size(self):\n",
    "        count = 0\n",
    "        ptr = self.head\n",
    "        while ptr is not None:\n",
    "            count += 1\n",
    "            ptr = ptr.link\n",
    "        return count\n",
    "\n",
    "\n",
    "# 2. 도서 정보 조회 & 출력 기능 구현        \n",
    "    # (1) 모든 도서 정보를 화면에 출력\n",
    "    def display(self):\n",
    "        print(\"현재 등록된 도서 목록:\")\n",
    "        ptr = self.head\n",
    "        if ptr is None:\n",
    "            print(\"등록된 도서가 없습니다.\")\n",
    "        while ptr is not None:\n",
    "            print(ptr.data)\n",
    "            ptr = ptr.link\n",
    "    \n",
    "    # (2) 도서 제목으로 리스트에서 도서 찾기\n",
    "    def find_by_title(self, title):\n",
    "        ptr = self.head\n",
    "        while ptr is not None:\n",
    "            if ptr.data.title == title:\n",
    "                return ptr.data\n",
    "            ptr = ptr.link\n",
    "        return None\n",
    "\n",
    "    # (3) 도서 제목으로 리스트에서 도서의 위치 찾기\n",
    "    def find_pos_by_title(self, title):\n",
    "        pos = 0\n",
    "        ptr = self.head\n",
    "        while ptr is not None:\n",
    "            if ptr.data.title == title:\n",
    "                return pos\n",
    "            ptr = ptr.link\n",
    "            pos += 1\n",
    "        return None\n",
    "    \n"
   ]
  },
  {
   "cell_type": "markdown",
   "id": "05143364-4e0d-4e95-a041-01e774a8f88f",
   "metadata": {},
   "source": [
    "### 3. Book 클래스 구현\n",
    "#### (1) 각 책에 대한 정보(번호, 제목, 저자, 연도) 저장\n",
    "#### (2) 책 정보를 문자열로 표현하는 기능"
   ]
  },
  {
   "cell_type": "code",
   "execution_count": 28,
   "id": "79875050-4234-4191-a421-22fdb8e20a2e",
   "metadata": {},
   "outputs": [],
   "source": [
    "class Book:\n",
    "    def __init__(self, book_id, title, author, year):\n",
    "        self.book_id = book_id\n",
    "        self.title = title\n",
    "        self.author = author\n",
    "        self.year = year\n",
    "        \n",
    "    def __str__(self):\n",
    "        return f\"[책 번호: {self.book_id}, 제목: {self.title}, 저자: {self.author}, 출판 연도: {self.year}]\""
   ]
  },
  {
   "cell_type": "markdown",
   "id": "2b3bdc5c-9649-4a93-b49e-4a3c4b97bcb7",
   "metadata": {},
   "source": [
    "### 4. BookManagementSystem 클래스 구현"
   ]
  },
  {
   "cell_type": "code",
   "execution_count": 37,
   "id": "0cda4f98-bcef-429f-872d-ed8216a0f4d8",
   "metadata": {},
   "outputs": [],
   "source": [
    "class BookManagementSystem:\n",
    "    def __init__(self):\n",
    "        self.BookList = LinkedList()\n",
    "\n",
    "    \n",
    "    # (1) 도서 추가 메서드\n",
    "    def add_book(self, book_id, title, author, year):\n",
    "        ptr = self.BookList.head\n",
    "        while ptr is not None:\n",
    "            if ptr.data.book_id == book_id:\n",
    "                print(\"이미 존재하는 책입니다.\")\n",
    "                return\n",
    "            ptr = ptr.link\n",
    "            \n",
    "        # 새 책 추가\n",
    "        Nbook = Book(book_id, title, author, year)\n",
    "        self.BookList.insert(self.BookList.size(), Nbook)\n",
    "        print(f\"도서 '{Nbook.title}'가 추가되었습니다.\")\n",
    "        # 메세지 -> 도서 'ooo'가 추가 되었습니다.\n",
    "\n",
    "    \n",
    "    # (2) 도서 삭제 메서드\n",
    "    def remove_book(self, title):\n",
    "        pos = self.BookList.find_pos_by_title(title)  # p <- 삭제할 노드의 위치\n",
    "        if pos != -1:\n",
    "            self.BookList.delete(pos)\n",
    "            print(f\"도서 '{title}'가 삭제되었습니다.\")\n",
    "        else:\n",
    "            print(\"도서를 찾을 수 없습니다.\")\n",
    "\n",
    "    # (3) 도서 검색 + 해당 도서 정보 출력 메서드\n",
    "    def search_book(self, title):\n",
    "        book = self.BookList.find_by_title(title)\n",
    "        if book:\n",
    "            print(\"책 제목을 입력하세요:\", book)\n",
    "        else:\n",
    "            print(\"도서를 찾을 수 없습니다.\")\n",
    "            \n",
    "    def display_books(self):\n",
    "        self.BookList.display()\n",
    "\n",
    "    # (4) 메뉴를 출력 + 사용자가 선택한 작업 수행\n",
    "    def main(self):\n",
    "        while True:\n",
    "            print(\"\\n=== 도서 관리 프로그램 ===\")\n",
    "            print(\"1. 도서 추가\")\n",
    "            print(\"2. 도서 삭제 (책 제목으로 삭제)\")\n",
    "            print(\"3. 도서 검색 (책 제목으로 조회)\")\n",
    "            print(\"4. 전체 도서 목록\")\n",
    "            print(\"5. 프로그램 종료\")\n",
    "            \n",
    "            try:\n",
    "                MENU = input(\"메뉴를 선택하세요: \")\n",
    "                \n",
    "                if MENU == \"1\":\n",
    "                    book_id = input(\"책 번호: \")\n",
    "                    title = input(\"책 제목: \")\n",
    "                    author = input(\"저자: \")\n",
    "                    year = input(\"출판연도: \")\n",
    "                    self.add_book(book_id, title, author, year)\n",
    "                    \n",
    "                elif MENU == \"2\":\n",
    "                    title = input(\"삭제할 책의 제목: \")\n",
    "                    self.remove_book(title)\n",
    "                    \n",
    "                elif MENU == \"3\":\n",
    "                    title = input(\"검색할 책의 제목: \")\n",
    "                    self.search_book(title)\n",
    "                    \n",
    "                elif MENU == \"4\":\n",
    "                    self.display_books()\n",
    "                    \n",
    "                elif MENU == \"5\":\n",
    "                    print(\"프로그램을 종료합니다.\")\n",
    "                    break\n",
    "                    \n",
    "                else:\n",
    "                    print(\"다시 선택해주세요.\")\n",
    "                    \n",
    "            except Exception as e:\n",
    "                print(\"오류가 발생했습니다.\")\n",
    "                print(e)"
   ]
  },
  {
   "cell_type": "markdown",
   "id": "b38f0ef2-50da-418e-a9ca-43b546c99749",
   "metadata": {},
   "source": [
    "### 5. 사용자 인터페이스"
   ]
  },
  {
   "cell_type": "code",
   "execution_count": 36,
   "id": "5b33221c-24aa-4e89-814e-becc417ca36c",
   "metadata": {},
   "outputs": [
    {
     "name": "stdout",
     "output_type": "stream",
     "text": [
      "\n",
      "=== 도서 관리 프로그램 ===\n",
      "1. 도서 추가\n",
      "2. 도서 삭제 (책 제목으로 삭제)\n",
      "3. 도서 검색 (책 제목으로 조회)\n",
      "4. 전체 도서 목록\n",
      "5. 프로그램 종료\n"
     ]
    },
    {
     "name": "stdin",
     "output_type": "stream",
     "text": [
      "메뉴를 선택하세요:  1\n",
      "책 번호:  1\n",
      "책 제목:  소프트웨어\n",
      "저자:  김세연\n",
      "출판연도:  2024\n"
     ]
    },
    {
     "name": "stdout",
     "output_type": "stream",
     "text": [
      "도서 '소프트웨어'가 추가되었습니다.\n",
      "\n",
      "=== 도서 관리 프로그램 ===\n",
      "1. 도서 추가\n",
      "2. 도서 삭제 (책 제목으로 삭제)\n",
      "3. 도서 검색 (책 제목으로 조회)\n",
      "4. 전체 도서 목록\n",
      "5. 프로그램 종료\n"
     ]
    },
    {
     "name": "stdin",
     "output_type": "stream",
     "text": [
      "메뉴를 선택하세요:  3\n",
      "검색할 책의 제목:  소프트웨어\n"
     ]
    },
    {
     "name": "stdout",
     "output_type": "stream",
     "text": [
      "책 제목을 입력하세요: [책 번호: 1, 제목: 소프트웨어, 저자: 김세연, 출판 연도: 2024]\n",
      "\n",
      "=== 도서 관리 프로그램 ===\n",
      "1. 도서 추가\n",
      "2. 도서 삭제 (책 제목으로 삭제)\n",
      "3. 도서 검색 (책 제목으로 조회)\n",
      "4. 전체 도서 목록\n",
      "5. 프로그램 종료\n"
     ]
    },
    {
     "name": "stdin",
     "output_type": "stream",
     "text": [
      "메뉴를 선택하세요:  4\n"
     ]
    },
    {
     "name": "stdout",
     "output_type": "stream",
     "text": [
      "현재 등록된 도서 목록:\n",
      "[책 번호: 1, 제목: 소프트웨어, 저자: 김세연, 출판 연도: 2024]\n",
      "\n",
      "=== 도서 관리 프로그램 ===\n",
      "1. 도서 추가\n",
      "2. 도서 삭제 (책 제목으로 삭제)\n",
      "3. 도서 검색 (책 제목으로 조회)\n",
      "4. 전체 도서 목록\n",
      "5. 프로그램 종료\n"
     ]
    },
    {
     "name": "stdin",
     "output_type": "stream",
     "text": [
      "메뉴를 선택하세요:  2\n",
      "삭제할 책의 제목:  소프트웨어\n"
     ]
    },
    {
     "name": "stdout",
     "output_type": "stream",
     "text": [
      "도서 '소프트웨어'가 삭제되었습니다.\n",
      "\n",
      "=== 도서 관리 프로그램 ===\n",
      "1. 도서 추가\n",
      "2. 도서 삭제 (책 제목으로 삭제)\n",
      "3. 도서 검색 (책 제목으로 조회)\n",
      "4. 전체 도서 목록\n",
      "5. 프로그램 종료\n"
     ]
    },
    {
     "name": "stdin",
     "output_type": "stream",
     "text": [
      "메뉴를 선택하세요:  5\n"
     ]
    },
    {
     "name": "stdout",
     "output_type": "stream",
     "text": [
      "프로그램을 종료합니다.\n"
     ]
    }
   ],
   "source": [
    "if __name__ == \"__main__\":\n",
    "    bms = BookManagementSystem()\n",
    "    bms.main()"
   ]
  }
 ],
 "metadata": {
  "kernelspec": {
   "display_name": "Python 3 (ipykernel)",
   "language": "python",
   "name": "python3"
  },
  "language_info": {
   "codemirror_mode": {
    "name": "ipython",
    "version": 3
   },
   "file_extension": ".py",
   "mimetype": "text/x-python",
   "name": "python",
   "nbconvert_exporter": "python",
   "pygments_lexer": "ipython3",
   "version": "3.11.8"
  }
 },
 "nbformat": 4,
 "nbformat_minor": 5
}
